{
 "cells": [
  {
   "cell_type": "code",
   "execution_count": 1,
   "id": "937df1b5-d3c2-4b4e-a243-19e4b319def9",
   "metadata": {},
   "outputs": [],
   "source": [
    "l=[1,2,3,4,45,5]\n",
    "l1=[]\n",
    "for i in l:\n",
    "    l1.append(i**2)"
   ]
  },
  {
   "cell_type": "code",
   "execution_count": 2,
   "id": "328f3af6-0521-4ebe-9830-c4ead3d9e07e",
   "metadata": {},
   "outputs": [
    {
     "data": {
      "text/plain": [
       "[1, 4, 9, 16, 2025, 25]"
      ]
     },
     "execution_count": 2,
     "metadata": {},
     "output_type": "execute_result"
    }
   ],
   "source": [
    "l1"
   ]
  },
  {
   "cell_type": "code",
   "execution_count": 3,
   "id": "492f0286-6c53-4534-9570-9ffcb8575c75",
   "metadata": {},
   "outputs": [
    {
     "data": {
      "text/plain": [
       "[1, 2, 3, 4, 45, 5]"
      ]
     },
     "execution_count": 3,
     "metadata": {},
     "output_type": "execute_result"
    }
   ],
   "source": [
    "l"
   ]
  },
  {
   "cell_type": "code",
   "execution_count": 4,
   "id": "2ea7c07c-877d-4e04-97dc-c8648ba8df44",
   "metadata": {},
   "outputs": [
    {
     "data": {
      "text/plain": [
       "[1, 4, 9, 16, 2025, 25]"
      ]
     },
     "execution_count": 4,
     "metadata": {},
     "output_type": "execute_result"
    }
   ],
   "source": [
    "[i**2 for i in l]"
   ]
  },
  {
   "cell_type": "code",
   "execution_count": 6,
   "id": "e06277db-7e53-40e5-af0c-2ccfd7fd6ef3",
   "metadata": {},
   "outputs": [
    {
     "data": {
      "text/plain": [
       "[2, 4]"
      ]
     },
     "execution_count": 6,
     "metadata": {},
     "output_type": "execute_result"
    }
   ],
   "source": [
    "[i for i in l if i % 2==0]"
   ]
  },
  {
   "cell_type": "code",
   "execution_count": 7,
   "id": "cb1a8635-39c7-4cea-8376-e0a0f537ba9d",
   "metadata": {},
   "outputs": [],
   "source": [
    "l1 = [\"silu\",\"pwskills\" , \"milu\", \"data science masters\"]"
   ]
  },
  {
   "cell_type": "code",
   "execution_count": 8,
   "id": "f0fc6b10-6152-4514-94aa-256b369919f9",
   "metadata": {},
   "outputs": [
    {
     "data": {
      "text/plain": [
       "['SILU', 'PWSKILLS', 'MILU', 'DATA SCIENCE MASTERS']"
      ]
     },
     "execution_count": 8,
     "metadata": {},
     "output_type": "execute_result"
    }
   ],
   "source": [
    "[i.upper() for i in l1]"
   ]
  },
  {
   "cell_type": "code",
   "execution_count": 9,
   "id": "d2391fb9-588d-4d11-ac55-4727eef34eaf",
   "metadata": {},
   "outputs": [
    {
     "data": {
      "text/plain": [
       "[1, 2, 3, 4, 45, 5]"
      ]
     },
     "execution_count": 9,
     "metadata": {},
     "output_type": "execute_result"
    }
   ],
   "source": [
    "#Tuple comprehession:-\n",
    "l"
   ]
  },
  {
   "cell_type": "code",
   "execution_count": 10,
   "id": "9831eb6c-fe68-4a34-af1b-9f43c51ee3d3",
   "metadata": {},
   "outputs": [
    {
     "data": {
      "text/plain": [
       "[1, 4, 9, 16, 2025, 25]"
      ]
     },
     "execution_count": 10,
     "metadata": {},
     "output_type": "execute_result"
    }
   ],
   "source": [
    "list(i**2 for i in l)"
   ]
  },
  {
   "cell_type": "code",
   "execution_count": 11,
   "id": "5aaeca21-6e3a-466e-bef0-2f41c93c091c",
   "metadata": {},
   "outputs": [],
   "source": [
    "#Dictionary Comprehession:-\n",
    "d = {\"key1\" : 1 , \"key2\" : 2 , \"key3\" : 3 , \"key4\" : 4}"
   ]
  },
  {
   "cell_type": "code",
   "execution_count": 14,
   "id": "9807a54e-b3c1-4364-b7c4-425ff701b8a6",
   "metadata": {},
   "outputs": [
    {
     "data": {
      "text/plain": [
       "{'key1': 1, 'key2': 4, 'key3': 9, 'key4': 16}"
      ]
     },
     "execution_count": 14,
     "metadata": {},
     "output_type": "execute_result"
    }
   ],
   "source": [
    "{k:v**2 for k , v in d.items()}"
   ]
  },
  {
   "cell_type": "code",
   "execution_count": 15,
   "id": "ae9dcc68-5ddf-4571-99a0-ce95f3e6b42d",
   "metadata": {},
   "outputs": [
    {
     "data": {
      "text/plain": [
       "dict_items([('key1', 1), ('key2', 2), ('key3', 3), ('key4', 4)])"
      ]
     },
     "execution_count": 15,
     "metadata": {},
     "output_type": "execute_result"
    }
   ],
   "source": [
    "d.items()"
   ]
  },
  {
   "cell_type": "code",
   "execution_count": 16,
   "id": "3ba89daf-2857-441b-b24a-79a1e50f36d8",
   "metadata": {},
   "outputs": [
    {
     "data": {
      "text/plain": [
       "{'key1': 1, 'key2': 2, 'key3': 3, 'key4': 4}"
      ]
     },
     "execution_count": 16,
     "metadata": {},
     "output_type": "execute_result"
    }
   ],
   "source": [
    "d"
   ]
  },
  {
   "cell_type": "code",
   "execution_count": 18,
   "id": "582fb1ef-fe5b-4139-9183-553813f621a3",
   "metadata": {},
   "outputs": [
    {
     "data": {
      "text/plain": [
       "{'key2': 2, 'key3': 3, 'key4': 4}"
      ]
     },
     "execution_count": 18,
     "metadata": {},
     "output_type": "execute_result"
    }
   ],
   "source": [
    "{k : v for k , v in d.items() if v > 1}"
   ]
  },
  {
   "cell_type": "code",
   "execution_count": null,
   "id": "096c5c85-ddf9-4973-b035-c4876d9f92e7",
   "metadata": {},
   "outputs": [],
   "source": []
  }
 ],
 "metadata": {
  "kernelspec": {
   "display_name": "Python 3 (ipykernel)",
   "language": "python",
   "name": "python3"
  },
  "language_info": {
   "codemirror_mode": {
    "name": "ipython",
    "version": 3
   },
   "file_extension": ".py",
   "mimetype": "text/x-python",
   "name": "python",
   "nbconvert_exporter": "python",
   "pygments_lexer": "ipython3",
   "version": "3.10.6"
  }
 },
 "nbformat": 4,
 "nbformat_minor": 5
}
